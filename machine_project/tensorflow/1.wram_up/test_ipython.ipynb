{
 "cells": [
  {
   "cell_type": "markdown",
   "metadata": {},
   "source": [
    "# 这是一个tensorflow 例子"
   ]
  },
  {
   "cell_type": "markdown",
   "metadata": {},
   "source": [
    "Ipython 测试程序\n",
    "这是一个测试程序，下面测试是否可以并存。"
   ]
  },
  {
   "cell_type": "code",
   "execution_count": 53,
   "metadata": {},
   "outputs": [
    {
     "name": "stdout",
     "output_type": "stream",
     "text": [
      "coefficient = [[  1]\n",
      " [-20]\n",
      " [ 25]]\n",
      "init w = \n",
      "[0.]\n",
      "after run train, w = \n",
      " [9.999977]\n"
     ]
    }
   ],
   "source": [
    "import tensorflow as tf\n",
    "import numpy as np\n",
    "\n",
    "coefficient = np.array([[1], [-20], [25]])\n",
    "\n",
    "print(\"coefficient = %s\"%(coefficient))\n",
    "\n",
    "#print(\"coefficient = {0}\".format(coefficient))\n",
    "\n",
    "w = tf.Variable([0], dtype=tf.float32)\n",
    "\n",
    "x = tf.placeholder(tf.float32, [3,1])\n",
    "\n",
    "cost = x[0][0]*w**2 + x[1][0]*w + x[2][0]\n",
    "\n",
    "train = tf.train .GradientDescentOptimizer(0.01).minimize(cost)\n",
    "init = tf.global_variables_initializer()\n",
    "\n",
    "session = tf.Session()\n",
    "session.run(init)\n",
    "print(\"init w = \")\n",
    "print(session.run(w))\n",
    "\n",
    "for i in range(10000):\n",
    "    session.run(train, feed_dict={x:coefficient})\n",
    "\n",
    "print(\"after run train, w = \\n\", session.run(w))\n",
    "\n",
    "\n",
    "\n"
   ]
  },
  {
   "cell_type": "code",
   "execution_count": null,
   "metadata": {},
   "outputs": [],
   "source": []
  }
 ],
 "metadata": {
  "kernelspec": {
   "display_name": "Python 3",
   "language": "python",
   "name": "python3"
  },
  "language_info": {
   "codemirror_mode": {
    "name": "ipython",
    "version": 3
   },
   "file_extension": ".py",
   "mimetype": "text/x-python",
   "name": "python",
   "nbconvert_exporter": "python",
   "pygments_lexer": "ipython3",
   "version": "3.6.4"
  }
 },
 "nbformat": 4,
 "nbformat_minor": 2
}
